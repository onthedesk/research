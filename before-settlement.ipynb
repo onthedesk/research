{
 "cells": [
  {
   "cell_type": "markdown",
   "metadata": {},
   "source": [
    "# 50ETF期权行权前的交易机会\n"
   ]
  },
  {
   "cell_type": "markdown",
   "metadata": {},
   "source": [
    "* 由于涨跌停的限制，临近交割时某些期权合约因其行权价不在50ETF价格所能波及的区间之内，从而“提前失效”，将其卖出便可以获得低风险甚至无风险的权利金收入。\n",
    "* 根据50ETF的价格的历史分布，我们在一定的置信水平的涨跌幅度上估计50ETF价格在到期日的收盘价区间，从而锁定更多的“提前失效”的期权合约。\n",
    "* 我们选取95%置信水平的涨跌幅度来估计50ETF的到期日的收盘价区间，并卖出相应的期权来构造投资组合。"
   ]
  },
  {
   "cell_type": "code",
   "execution_count": 1,
   "metadata": {
    "collapsed": true
   },
   "outputs": [],
   "source": [
    "import pandas as pd\n",
    "import tushare as ts\n",
    "import numpy as np\n",
    "import matplotlib.pyplot as plt\n",
    "import seaborn as seaborn\n",
    "import math\n",
    "from datetime import date, datetime, timedelta\n",
    "%matplotlib inline"
   ]
  },
  {
   "cell_type": "code",
   "execution_count": 60,
   "metadata": {
    "collapsed": true
   },
   "outputs": [],
   "source": [
    "#这里是公用函数\n",
    "\n",
    "# lag\n",
    "def lag(data):\n",
    "    lagged = np.roll(data, 1)\n",
    "    # 处理第一个数据，这里可以优化成从更早的数据中取一个填上\n",
    "    lagged[0] = 0.\n",
    "    return lagged\n",
    "\n",
    "# 返回对数收益率\n",
    "def adj_return(pnl):\n",
    "    \n",
    "    lagged_pnl = lag(pnl)\n",
    "    returns = np.log(pnl / lagged_pnl)\n",
    "    \n",
    "    # 处理inf\n",
    "    returns[np.isinf(returns)] = 0.\n",
    "    # 处理NaN\n",
    "    returns[np.isnan(returns)] = 0.\n",
    "    \n",
    "    return returns\n",
    "\n",
    "# 计算输入列的adj_return_N, data为需要计算的数据序列\n",
    "# 返回连续N天的收益率\n",
    "def adj_return_N(data, N):\n",
    "    # 累计对数收益率\n",
    "    return data.rolling(window=N, center=False).sum()\n",
    "\n",
    "# 获取数据并处理收益率\n",
    "def get_data(start='', end=''):\n",
    "    \n",
    "    if start == '':\n",
    "        start='2013-10-21'\n",
    "    \n",
    "    #终止时间默认是上一个交易日\n",
    "    if end == '':\n",
    "        end = date.today().isoformat()\n",
    "    \n",
    "    data = ts.get_hist_data('510050', start=start, end=end)\n",
    "    data.sort_index(axis=0, ascending=True, inplace=True)\n",
    "    \n",
    "    # 处理收益率\n",
    "    data['adj_return'] = adj_return(data.close)\n",
    "    \n",
    "    return data"
   ]
  },
  {
   "cell_type": "code",
   "execution_count": 10,
   "metadata": {
    "collapsed": false
   },
   "outputs": [],
   "source": [
    "#data = get_data(start='2004-10-01')\n",
    "#因为数据源较少，改用调用通联数据，有05年以来的数据\n",
    "data = pd.read_csv('./data/510050.csv')"
   ]
  },
  {
   "cell_type": "code",
   "execution_count": 56,
   "metadata": {
    "collapsed": false
   },
   "outputs": [
    {
     "data": {
      "text/html": [
       "<div>\n",
       "<table border=\"1\" class=\"dataframe\">\n",
       "  <thead>\n",
       "    <tr style=\"text-align: right;\">\n",
       "      <th></th>\n",
       "      <th>Unnamed: 0</th>\n",
       "      <th>secID</th>\n",
       "      <th>ticker</th>\n",
       "      <th>exchangeCD</th>\n",
       "      <th>secShortName</th>\n",
       "      <th>tradeDate</th>\n",
       "      <th>preClosePrice</th>\n",
       "      <th>openPrice</th>\n",
       "      <th>highestPrice</th>\n",
       "      <th>lowestPrice</th>\n",
       "      <th>closePrice</th>\n",
       "      <th>CHG</th>\n",
       "      <th>CHGPct</th>\n",
       "      <th>turnoverVol</th>\n",
       "      <th>turnoverValue</th>\n",
       "      <th>discount</th>\n",
       "      <th>discountRatio</th>\n",
       "      <th>circulationShares</th>\n",
       "      <th>accumAdjFactor</th>\n",
       "      <th>adj_return</th>\n",
       "    </tr>\n",
       "  </thead>\n",
       "  <tbody>\n",
       "    <tr>\n",
       "      <th>0</th>\n",
       "      <td>0</td>\n",
       "      <td>510050.XSHG</td>\n",
       "      <td>510050</td>\n",
       "      <td>XSHG</td>\n",
       "      <td>华夏上证50ETF</td>\n",
       "      <td>2005-02-23</td>\n",
       "      <td>0.887</td>\n",
       "      <td>0.881</td>\n",
       "      <td>0.882</td>\n",
       "      <td>0.866</td>\n",
       "      <td>0.876</td>\n",
       "      <td>-0.011</td>\n",
       "      <td>-0.0124</td>\n",
       "      <td>1269742542</td>\n",
       "      <td>1111793167</td>\n",
       "      <td>0.002</td>\n",
       "      <td>0.002278</td>\n",
       "      <td>5.940000e+09</td>\n",
       "      <td>1.0</td>\n",
       "      <td>0.000000</td>\n",
       "    </tr>\n",
       "    <tr>\n",
       "      <th>1</th>\n",
       "      <td>1</td>\n",
       "      <td>510050.XSHG</td>\n",
       "      <td>510050</td>\n",
       "      <td>XSHG</td>\n",
       "      <td>华夏上证50ETF</td>\n",
       "      <td>2005-02-24</td>\n",
       "      <td>0.876</td>\n",
       "      <td>0.876</td>\n",
       "      <td>0.876</td>\n",
       "      <td>0.868</td>\n",
       "      <td>0.876</td>\n",
       "      <td>0.000</td>\n",
       "      <td>0.0000</td>\n",
       "      <td>451614223</td>\n",
       "      <td>394141216</td>\n",
       "      <td>0.001</td>\n",
       "      <td>0.001140</td>\n",
       "      <td>5.768000e+09</td>\n",
       "      <td>1.0</td>\n",
       "      <td>0.000000</td>\n",
       "    </tr>\n",
       "    <tr>\n",
       "      <th>2</th>\n",
       "      <td>2</td>\n",
       "      <td>510050.XSHG</td>\n",
       "      <td>510050</td>\n",
       "      <td>XSHG</td>\n",
       "      <td>华夏上证50ETF</td>\n",
       "      <td>2005-02-25</td>\n",
       "      <td>0.876</td>\n",
       "      <td>0.877</td>\n",
       "      <td>0.887</td>\n",
       "      <td>0.875</td>\n",
       "      <td>0.880</td>\n",
       "      <td>0.004</td>\n",
       "      <td>0.0046</td>\n",
       "      <td>506460695</td>\n",
       "      <td>446597972</td>\n",
       "      <td>-0.002</td>\n",
       "      <td>-0.002278</td>\n",
       "      <td>5.509000e+09</td>\n",
       "      <td>1.0</td>\n",
       "      <td>0.455582</td>\n",
       "    </tr>\n",
       "    <tr>\n",
       "      <th>3</th>\n",
       "      <td>3</td>\n",
       "      <td>510050.XSHG</td>\n",
       "      <td>510050</td>\n",
       "      <td>XSHG</td>\n",
       "      <td>华夏上证50ETF</td>\n",
       "      <td>2005-02-28</td>\n",
       "      <td>0.880</td>\n",
       "      <td>0.878</td>\n",
       "      <td>0.879</td>\n",
       "      <td>0.870</td>\n",
       "      <td>0.872</td>\n",
       "      <td>-0.008</td>\n",
       "      <td>-0.0091</td>\n",
       "      <td>187965193</td>\n",
       "      <td>164467462</td>\n",
       "      <td>-0.003</td>\n",
       "      <td>-0.003452</td>\n",
       "      <td>5.513000e+09</td>\n",
       "      <td>1.0</td>\n",
       "      <td>-0.913248</td>\n",
       "    </tr>\n",
       "    <tr>\n",
       "      <th>4</th>\n",
       "      <td>4</td>\n",
       "      <td>510050.XSHG</td>\n",
       "      <td>510050</td>\n",
       "      <td>XSHG</td>\n",
       "      <td>华夏上证50ETF</td>\n",
       "      <td>2005-03-01</td>\n",
       "      <td>0.872</td>\n",
       "      <td>0.870</td>\n",
       "      <td>0.873</td>\n",
       "      <td>0.865</td>\n",
       "      <td>0.867</td>\n",
       "      <td>-0.005</td>\n",
       "      <td>-0.0057</td>\n",
       "      <td>208094456</td>\n",
       "      <td>180573596</td>\n",
       "      <td>-0.001</td>\n",
       "      <td>-0.001155</td>\n",
       "      <td>5.631000e+09</td>\n",
       "      <td>1.0</td>\n",
       "      <td>-0.575045</td>\n",
       "    </tr>\n",
       "  </tbody>\n",
       "</table>\n",
       "</div>"
      ],
      "text/plain": [
       "   Unnamed: 0        secID  ticker exchangeCD secShortName   tradeDate  \\\n",
       "0           0  510050.XSHG  510050       XSHG    华夏上证50ETF  2005-02-23   \n",
       "1           1  510050.XSHG  510050       XSHG    华夏上证50ETF  2005-02-24   \n",
       "2           2  510050.XSHG  510050       XSHG    华夏上证50ETF  2005-02-25   \n",
       "3           3  510050.XSHG  510050       XSHG    华夏上证50ETF  2005-02-28   \n",
       "4           4  510050.XSHG  510050       XSHG    华夏上证50ETF  2005-03-01   \n",
       "\n",
       "   preClosePrice  openPrice  highestPrice  lowestPrice  closePrice    CHG  \\\n",
       "0          0.887      0.881         0.882        0.866       0.876 -0.011   \n",
       "1          0.876      0.876         0.876        0.868       0.876  0.000   \n",
       "2          0.876      0.877         0.887        0.875       0.880  0.004   \n",
       "3          0.880      0.878         0.879        0.870       0.872 -0.008   \n",
       "4          0.872      0.870         0.873        0.865       0.867 -0.005   \n",
       "\n",
       "   CHGPct  turnoverVol  turnoverValue  discount  discountRatio  \\\n",
       "0 -0.0124   1269742542     1111793167     0.002       0.002278   \n",
       "1  0.0000    451614223      394141216     0.001       0.001140   \n",
       "2  0.0046    506460695      446597972    -0.002      -0.002278   \n",
       "3 -0.0091    187965193      164467462    -0.003      -0.003452   \n",
       "4 -0.0057    208094456      180573596    -0.001      -0.001155   \n",
       "\n",
       "   circulationShares  accumAdjFactor  adj_return  \n",
       "0       5.940000e+09             1.0    0.000000  \n",
       "1       5.768000e+09             1.0    0.000000  \n",
       "2       5.509000e+09             1.0    0.455582  \n",
       "3       5.513000e+09             1.0   -0.913248  \n",
       "4       5.631000e+09             1.0   -0.575045  "
      ]
     },
     "execution_count": 56,
     "metadata": {},
     "output_type": "execute_result"
    }
   ],
   "source": [
    "data.head()"
   ]
  },
  {
   "cell_type": "code",
   "execution_count": 53,
   "metadata": {
    "collapsed": true
   },
   "outputs": [],
   "source": [
    "data['adj_return'] = adj_return(data.closePrice)*100"
   ]
  },
  {
   "cell_type": "code",
   "execution_count": 94,
   "metadata": {
    "collapsed": false
   },
   "outputs": [],
   "source": [
    "#处理连续两天，连续三天，以及连续五天的涨跌幅\n",
    "data['adj_return2'] = adj_return_N(data.adj_return, 2)\n",
    "data['adj_return3'] = adj_return_N(data.adj_return, 3)\n",
    "data['adj_return5'] = adj_return_N(data.adj_return, 5)\n",
    "data.fillna(0, inplace=True)"
   ]
  },
  {
   "cell_type": "markdown",
   "metadata": {},
   "source": [
    "## 1. 上证50ETF的价格历史分布\n",
    "我们来观察上证50ETF自2013年10月以来单天、连续两天和连续三天的涨跌幅情况。"
   ]
  },
  {
   "cell_type": "markdown",
   "metadata": {},
   "source": [
    "### 1.1 上证50ETF一天涨跌幅的频率分布直方图"
   ]
  },
  {
   "cell_type": "code",
   "execution_count": 89,
   "metadata": {
    "collapsed": false
   },
   "outputs": [
    {
     "data": {
      "image/png": "[encoded data removed]",
      "text/plain": [
       "<matplotlib.figure.Figure at 0x11ac98850>"
      ]
     },
     "metadata": {},
     "output_type": "display_data"
    }
   ],
   "source": [
    "plt.figure(figsize=(16,9))\n",
    "n, bins, patchs = plt.hist(data.adj_return, bins = np.array(range(-15, 16)), facecolor='red', alpha=0.7)"
   ]
  },
  {
   "cell_type": "markdown",
   "metadata": {},
   "source": [
    "### 1.2 上证50ETF连续两天涨跌幅的频率分布直方图"
   ]
  },
  {
   "cell_type": "code",
   "execution_count": 90,
   "metadata": {
    "collapsed": false
   },
   "outputs": [
    {
     "data": {
      "image/png": "[encoded data removed]",
      "text/plain": [
       "<matplotlib.figure.Figure at 0x11b2a6ed0>"
      ]
     },
     "metadata": {},
     "output_type": "display_data"
    }
   ],
   "source": [
    "plt.figure(figsize=(16,9))\n",
    "n, bins, patchs = plt.hist(data.adj_return2, bins = np.array(range(-15, 16)), facecolor='red', alpha=0.7)"
   ]
  },
  {
   "cell_type": "markdown",
   "metadata": {},
   "source": [
    "### 1.3 上证50ETF连续三天涨跌幅的频率分布直方图"
   ]
  },
  {
   "cell_type": "code",
   "execution_count": 92,
   "metadata": {
    "collapsed": false
   },
   "outputs": [
    {
     "data": {
      "image/png": "[encoded data removed]",
      "text/plain": [
       "<matplotlib.figure.Figure at 0x11b24a190>"
      ]
     },
     "metadata": {},
     "output_type": "display_data"
    }
   ],
   "source": [
    "plt.figure(figsize=(16,9))\n",
    "n, bins, patchs = plt.hist(data.adj_return3, bins = np.array(range(-15, 16)), facecolor='red', alpha=0.7)"
   ]
  },
  {
   "cell_type": "markdown",
   "metadata": {},
   "source": [
    "### 1.4 上证50ETF连续五天天涨跌幅的频率分布直方图"
   ]
  },
  {
   "cell_type": "code",
   "execution_count": 95,
   "metadata": {
    "collapsed": false
   },
   "outputs": [
    {
     "data": {
      "image/png": "[encoded data removed]",
      "text/plain": [
       "<matplotlib.figure.Figure at 0x11c316850>"
      ]
     },
     "metadata": {},
     "output_type": "display_data"
    }
   ],
   "source": [
    "plt.figure(figsize=(16,9))\n",
    "n, bins, patchs = plt.hist(data.adj_return5, bins = np.array(range(-15, 16)), facecolor='red', alpha=0.7)"
   ]
  },
  {
   "cell_type": "markdown",
   "metadata": {},
   "source": [
    "随着时间跨度的增加，可见分布的峰度（kurtosis）逐渐增加（尾部变肥）,但是市场是否给予这种交易机会呢。一般来说不会有太多的空间，因为做市商对深度虚值期权的定价应该考虑了这种情况，就算做市商留有空间，但"
   ]
  },
  {
   "cell_type": "markdown",
   "metadata": {},
   "source": [
    "## 2. 期权合约失效扫描"
   ]
  },
  {
   "cell_type": "markdown",
   "metadata": {},
   "source": [
    "## 3. 组合构建"
   ]
  },
  {
   "cell_type": "markdown",
   "metadata": {},
   "source": [
    "## 4. 风险分析"
   ]
  }
 ],
 "metadata": {
  "kernelspec": {
   "display_name": "Python 2",
   "language": "python",
   "name": "python2"
  },
  "language_info": {
   "codemirror_mode": {
    "name": "ipython",
    "version": 2
   },
   "file_extension": ".py",
   "mimetype": "text/x-python",
   "name": "python",
   "nbconvert_exporter": "python",
   "pygments_lexer": "ipython2",
   "version": "2.7.12"
  }
 },
 "nbformat": 4,
 "nbformat_minor": 0
}
