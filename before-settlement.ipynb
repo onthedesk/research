{
 "cells": [
  {
   "cell_type": "markdown",
   "metadata": {},
   "source": [
    "# 50ETF期权行权前的交易机会\n"
   ]
  },
  {
   "cell_type": "markdown",
   "metadata": {},
   "source": [
    "* 由于涨跌停的限制，临近交割时某些期权合约因其行权价不在50ETF价格所能波及的区间之内，从而“提前失效”，将其卖出便可以获得低风险甚至无风险的权利金收入。\n",
    "* 根据50ETF的价格的历史分布，我们在一定的置信水平的涨跌幅度上估计50ETF价格在到期日的收盘价区间，从而锁定更多的“提前失效”的期权合约。\n",
    "* 我们选取95%置信水平的涨跌幅度来估计50ETF的到期日的收盘价区间，并卖出相应的期权来构造投资组合。"
   ]
  }
 ],
 "metadata": {
  "kernelspec": {
   "display_name": "Python 2",
   "language": "python",
   "name": "python2"
  },
  "language_info": {
   "codemirror_mode": {
    "name": "ipython",
    "version": 2
   },
   "file_extension": ".py",
   "mimetype": "text/x-python",
   "name": "python",
   "nbconvert_exporter": "python",
   "pygments_lexer": "ipython2",
   "version": "2.7.12"
  }
 },
 "nbformat": 4,
 "nbformat_minor": 0
}
