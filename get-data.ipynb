{
 "cells": [
  {
   "cell_type": "code",
   "execution_count": 1,
   "metadata": {
    "collapsed": true
   },
   "outputs": [],
   "source": [
    "import pandas as pd\n",
    "import tushare as ts"
   ]
  },
  {
   "cell_type": "code",
   "execution_count": 16,
   "metadata": {
    "collapsed": false
   },
   "outputs": [],
   "source": [
    "mt = ts.Market()"
   ]
  },
  {
   "cell_type": "code",
   "execution_count": 17,
   "metadata": {
    "collapsed": false
   },
   "outputs": [],
   "source": [
    "#50etf基金2005年以来的数据\n",
    "data = mt.MktFundd(secID='510050.XSHG')"
   ]
  },
  {
   "cell_type": "code",
   "execution_count": 9,
   "metadata": {
    "collapsed": false
   },
   "outputs": [],
   "source": [
    "data.to_csv('./data/510050.csv')"
   ]
  },
  {
   "cell_type": "code",
   "execution_count": 18,
   "metadata": {
    "collapsed": false
   },
   "outputs": [
    {
     "data": {
      "text/html": [
       "<div>\n",
       "<table border=\"1\" class=\"dataframe\">\n",
       "  <thead>\n",
       "    <tr style=\"text-align: right;\">\n",
       "      <th></th>\n",
       "      <th>secID</th>\n",
       "      <th>ticker</th>\n",
       "      <th>exchangeCD</th>\n",
       "      <th>secShortName</th>\n",
       "      <th>tradeDate</th>\n",
       "      <th>preClosePrice</th>\n",
       "      <th>openPrice</th>\n",
       "      <th>highestPrice</th>\n",
       "      <th>lowestPrice</th>\n",
       "      <th>closePrice</th>\n",
       "      <th>CHG</th>\n",
       "      <th>CHGPct</th>\n",
       "      <th>turnoverVol</th>\n",
       "      <th>turnoverValue</th>\n",
       "      <th>discount</th>\n",
       "      <th>discountRatio</th>\n",
       "      <th>circulationShares</th>\n",
       "      <th>accumAdjFactor</th>\n",
       "    </tr>\n",
       "  </thead>\n",
       "  <tbody>\n",
       "    <tr>\n",
       "      <th>0</th>\n",
       "      <td>510050.XSHG</td>\n",
       "      <td>510050</td>\n",
       "      <td>XSHG</td>\n",
       "      <td>华夏上证50ETF</td>\n",
       "      <td>2005-02-23</td>\n",
       "      <td>0.887</td>\n",
       "      <td>0.881</td>\n",
       "      <td>0.882</td>\n",
       "      <td>0.866</td>\n",
       "      <td>0.876</td>\n",
       "      <td>-0.011</td>\n",
       "      <td>-0.0124</td>\n",
       "      <td>1269742542</td>\n",
       "      <td>1111793167</td>\n",
       "      <td>0.002</td>\n",
       "      <td>0.002278</td>\n",
       "      <td>5.940000e+09</td>\n",
       "      <td>1.0</td>\n",
       "    </tr>\n",
       "    <tr>\n",
       "      <th>1</th>\n",
       "      <td>510050.XSHG</td>\n",
       "      <td>510050</td>\n",
       "      <td>XSHG</td>\n",
       "      <td>华夏上证50ETF</td>\n",
       "      <td>2005-02-24</td>\n",
       "      <td>0.876</td>\n",
       "      <td>0.876</td>\n",
       "      <td>0.876</td>\n",
       "      <td>0.868</td>\n",
       "      <td>0.876</td>\n",
       "      <td>0.000</td>\n",
       "      <td>0.0000</td>\n",
       "      <td>451614223</td>\n",
       "      <td>394141216</td>\n",
       "      <td>0.001</td>\n",
       "      <td>0.001140</td>\n",
       "      <td>5.768000e+09</td>\n",
       "      <td>1.0</td>\n",
       "    </tr>\n",
       "    <tr>\n",
       "      <th>2</th>\n",
       "      <td>510050.XSHG</td>\n",
       "      <td>510050</td>\n",
       "      <td>XSHG</td>\n",
       "      <td>华夏上证50ETF</td>\n",
       "      <td>2005-02-25</td>\n",
       "      <td>0.876</td>\n",
       "      <td>0.877</td>\n",
       "      <td>0.887</td>\n",
       "      <td>0.875</td>\n",
       "      <td>0.880</td>\n",
       "      <td>0.004</td>\n",
       "      <td>0.0046</td>\n",
       "      <td>506460695</td>\n",
       "      <td>446597972</td>\n",
       "      <td>-0.002</td>\n",
       "      <td>-0.002278</td>\n",
       "      <td>5.509000e+09</td>\n",
       "      <td>1.0</td>\n",
       "    </tr>\n",
       "    <tr>\n",
       "      <th>3</th>\n",
       "      <td>510050.XSHG</td>\n",
       "      <td>510050</td>\n",
       "      <td>XSHG</td>\n",
       "      <td>华夏上证50ETF</td>\n",
       "      <td>2005-02-28</td>\n",
       "      <td>0.880</td>\n",
       "      <td>0.878</td>\n",
       "      <td>0.879</td>\n",
       "      <td>0.870</td>\n",
       "      <td>0.872</td>\n",
       "      <td>-0.008</td>\n",
       "      <td>-0.0091</td>\n",
       "      <td>187965193</td>\n",
       "      <td>164467462</td>\n",
       "      <td>-0.003</td>\n",
       "      <td>-0.003452</td>\n",
       "      <td>5.513000e+09</td>\n",
       "      <td>1.0</td>\n",
       "    </tr>\n",
       "    <tr>\n",
       "      <th>4</th>\n",
       "      <td>510050.XSHG</td>\n",
       "      <td>510050</td>\n",
       "      <td>XSHG</td>\n",
       "      <td>华夏上证50ETF</td>\n",
       "      <td>2005-03-01</td>\n",
       "      <td>0.872</td>\n",
       "      <td>0.870</td>\n",
       "      <td>0.873</td>\n",
       "      <td>0.865</td>\n",
       "      <td>0.867</td>\n",
       "      <td>-0.005</td>\n",
       "      <td>-0.0057</td>\n",
       "      <td>208094456</td>\n",
       "      <td>180573596</td>\n",
       "      <td>-0.001</td>\n",
       "      <td>-0.001155</td>\n",
       "      <td>5.631000e+09</td>\n",
       "      <td>1.0</td>\n",
       "    </tr>\n",
       "  </tbody>\n",
       "</table>\n",
       "</div>"
      ],
      "text/plain": [
       "         secID  ticker exchangeCD secShortName   tradeDate  preClosePrice  \\\n",
       "0  510050.XSHG  510050       XSHG    华夏上证50ETF  2005-02-23          0.887   \n",
       "1  510050.XSHG  510050       XSHG    华夏上证50ETF  2005-02-24          0.876   \n",
       "2  510050.XSHG  510050       XSHG    华夏上证50ETF  2005-02-25          0.876   \n",
       "3  510050.XSHG  510050       XSHG    华夏上证50ETF  2005-02-28          0.880   \n",
       "4  510050.XSHG  510050       XSHG    华夏上证50ETF  2005-03-01          0.872   \n",
       "\n",
       "   openPrice  highestPrice  lowestPrice  closePrice    CHG  CHGPct  \\\n",
       "0      0.881         0.882        0.866       0.876 -0.011 -0.0124   \n",
       "1      0.876         0.876        0.868       0.876  0.000  0.0000   \n",
       "2      0.877         0.887        0.875       0.880  0.004  0.0046   \n",
       "3      0.878         0.879        0.870       0.872 -0.008 -0.0091   \n",
       "4      0.870         0.873        0.865       0.867 -0.005 -0.0057   \n",
       "\n",
       "   turnoverVol  turnoverValue  discount  discountRatio  circulationShares  \\\n",
       "0   1269742542     1111793167     0.002       0.002278       5.940000e+09   \n",
       "1    451614223      394141216     0.001       0.001140       5.768000e+09   \n",
       "2    506460695      446597972    -0.002      -0.002278       5.509000e+09   \n",
       "3    187965193      164467462    -0.003      -0.003452       5.513000e+09   \n",
       "4    208094456      180573596    -0.001      -0.001155       5.631000e+09   \n",
       "\n",
       "   accumAdjFactor  \n",
       "0             1.0  \n",
       "1             1.0  \n",
       "2             1.0  \n",
       "3             1.0  \n",
       "4             1.0  "
      ]
     },
     "execution_count": 18,
     "metadata": {},
     "output_type": "execute_result"
    }
   ],
   "source": [
    "data.head()"
   ]
  }
 ],
 "metadata": {
  "kernelspec": {
   "display_name": "Python 2",
   "language": "python",
   "name": "python2"
  },
  "language_info": {
   "codemirror_mode": {
    "name": "ipython",
    "version": 2
   },
   "file_extension": ".py",
   "mimetype": "text/x-python",
   "name": "python",
   "nbconvert_exporter": "python",
   "pygments_lexer": "ipython2",
   "version": "2.7.12"
  }
 },
 "nbformat": 4,
 "nbformat_minor": 0
}
